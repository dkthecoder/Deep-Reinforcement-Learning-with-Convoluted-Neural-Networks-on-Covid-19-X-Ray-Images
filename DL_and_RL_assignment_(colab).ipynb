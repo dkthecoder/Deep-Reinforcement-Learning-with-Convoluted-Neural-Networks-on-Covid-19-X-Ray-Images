{
  "nbformat": 4,
  "nbformat_minor": 0,
  "metadata": {
    "orig_nbformat": 4,
    "language_info": {
      "name": "python",
      "version": "3.9.6",
      "mimetype": "text/x-python",
      "codemirror_mode": {
        "name": "ipython",
        "version": 3
      },
      "pygments_lexer": "ipython3",
      "nbconvert_exporter": "python",
      "file_extension": ".py"
    },
    "kernelspec": {
      "name": "python3",
      "display_name": "Python 3.9.6 64-bit"
    },
    "interpreter": {
      "hash": "ac59ebe37160ed0dfa835113d9b8498d9f09ceb179beaac4002f036b9467c963"
    },
    "colab": {
      "name": "DL_and_RL_assignment_(colab).ipynb",
      "provenance": [],
      "collapsed_sections": [
        "V3gDZ7DhGUpD",
        "B1P_LUPkB5uP"
      ]
    }
  },
  "cells": [
    {
      "cell_type": "markdown",
      "metadata": {
        "id": "V3gDZ7DhGUpD"
      },
      "source": [
        "# Import"
      ]
    },
    {
      "cell_type": "code",
      "metadata": {
        "id": "rBeRYlq0B5uF"
      },
      "source": [
        "import numpy as np\n",
        "import pandas as pd\n",
        "import os\n",
        "import matplotlib.pyplot as plt\n",
        "import tensorflow as tf\n",
        "import keras\n",
        "\n",
        "from keras.models import Sequential\n",
        "from keras import regularizers\n",
        "from keras.layers import Dense, Dropout, Activation, Flatten, Conv2D, MaxPooling2D, AvgPool2D, MaxPool2D\n",
        "from keras.preprocessing.image import ImageDataGenerator\n",
        "from tensorflow.keras.optimizers import RMSprop"
      ],
      "execution_count": 3,
      "outputs": []
    },
    {
      "cell_type": "markdown",
      "metadata": {
        "id": "B1P_LUPkB5uP"
      },
      "source": [
        "---\n",
        "# Deep/Reinforcement Learning with Convoluted Neural Networks on Covid-19 X-Ray Images\n"
      ]
    },
    {
      "cell_type": "markdown",
      "metadata": {
        "id": "oS_uNrcyF35b"
      },
      "source": [
        "In this project, I shall be performing analysis on covid-19 x-ray images, using three distinct convoluted neural networks.\n",
        "\n",
        "*   LeNet\n",
        "*   AlexNet\n",
        "*   VGG\n",
        "\n",
        "The dataset is available at; https://www.kaggle.com/khoongweihao/covid19-xray-dataset-train-test-sets which has a total of 188 pictures, split into 40 images for testing ang 148 for training. Let's get started with importing the images and splitting them into there validation and test sets.\n",
        "\n",
        "We first define the directories which point to the train folder and test folder, then labeling which are the \"NORMAL\" and \"PNEUMONIA\" sets."
      ]
    },
    {
      "cell_type": "code",
      "metadata": {
        "id": "V7uMxFQrB5uS"
      },
      "source": [
        "#point to train/test directories.\n",
        "train_dir = '/content/drive/MyDrive/xray_dataset_covid19/train'\n",
        "validation_dir ='/content/drive/MyDrive/xray_dataset_covid19/test'\n",
        "\n",
        "train_normal_dir = os.path.join(train_dir,'NORMAL')\n",
        "train_pneumonia_dir = os.path.join(train_dir,'PNEUMONIA')\n",
        "validation_normal_dir = os.path.join(validation_dir,'NORMAL')\n",
        "validation_pneumonia_dir = os.path.join(validation_dir,'PNEUMONIA')"
      ],
      "execution_count": 4,
      "outputs": []
    },
    {
      "cell_type": "code",
      "metadata": {
        "colab": {
          "base_uri": "https://localhost:8080/"
        },
        "id": "iiW1e3R7B5uT",
        "outputId": "91f66a85-00f4-447f-ec2b-66dcba759635"
      },
      "source": [
        "train_normal_names = os.listdir(train_normal_dir)\n",
        "print(train_normal_names[:10])\n",
        "\n",
        "train_pneumonia_names = os.listdir(train_pneumonia_dir)\n",
        "print(train_pneumonia_names[:10])"
      ],
      "execution_count": 5,
      "outputs": [
        {
          "output_type": "stream",
          "text": [
            "['IM-0005-0001.jpeg', 'IM-0001-0001.jpeg', 'IM-0006-0001.jpeg', 'IM-0003-0001.jpeg', 'IM-0037-0001.jpeg', 'NORMAL2-IM-0007-0001.jpeg', 'IM-0077-0001.jpeg', 'IM-0097-0001.jpeg', 'IM-0061-0001.jpeg', 'IM-0007-0001.jpeg']\n",
            "['2C26F453-AF3B-4517-BB9E-802CF2179543.jpeg', '1-s2.0-S1684118220300682-main.pdf-002-a1.png', '41591_2020_819_Fig1_HTML.webp-day10.png', '1-s2.0-S1684118220300608-main.pdf-001.jpg', '5CBC2E94-D358-401E-8928-965CCD965C5C.jpeg', '5931B64A-7B97-485D-BE60-3F1EA76BC4F0.jpeg', '1-s2.0-S1684118220300682-main.pdf-003-b2.png', '171CB377-62FF-4B76-906C-F3787A01CB2E.jpeg', '1-s2.0-S0140673620303706-fx1_lrg.jpg', '1312A392-67A3-4EBF-9319-810CF6DA5EF6.jpeg']\n"
          ],
          "name": "stdout"
        }
      ]
    },
    {
      "cell_type": "markdown",
      "metadata": {
        "id": "Th7cqzSRM2my"
      },
      "source": [
        "Above, we can see a subset of images in each directory for our training sets. This is quite like that of the test set. While below, we can see our train/test split count."
      ]
    },
    {
      "cell_type": "code",
      "metadata": {
        "colab": {
          "base_uri": "https://localhost:8080/"
        },
        "id": "2zW-KBcMB5uU",
        "outputId": "a5f90fb9-ca15-48de-ab69-7dfb60394137"
      },
      "source": [
        "print('total training normal-rays :', len(os.listdir(train_normal_dir)))\n",
        "print('total training Pneumonia x-rays:', len(os.listdir(train_pneumonia_dir)))\n",
        "print('total validation normal-rays :', len(os.listdir(validation_normal_dir)))\n",
        "print('total validation Pneumonia x-rays:', len(os.listdir(validation_pneumonia_dir)))"
      ],
      "execution_count": 6,
      "outputs": [
        {
          "output_type": "stream",
          "text": [
            "total training normal-rays : 74\n",
            "total training Pneumonia x-rays: 74\n",
            "total validation normal-rays : 20\n",
            "total validation Pneumonia x-rays: 20\n"
          ],
          "name": "stdout"
        }
      ]
    },
    {
      "cell_type": "markdown",
      "metadata": {
        "id": "PUqVufJxNND4"
      },
      "source": [
        "Lastly, we will need to scale our image sets down from their original sizing, and setting up our batch size."
      ]
    },
    {
      "cell_type": "code",
      "metadata": {
        "colab": {
          "base_uri": "https://localhost:8080/"
        },
        "id": "n6bwU4zoB5uV",
        "outputId": "5e0e0e38-2ef7-4f98-a03d-04c199986338"
      },
      "source": [
        "#data generate\n",
        "train_data_generator = ImageDataGenerator(rescale = 1/255)\n",
        "validation_data_generator = ImageDataGenerator(rescale = 1/255)\n",
        "\n",
        "train_generator = train_data_generator.flow_from_directory(\n",
        "        train_dir, target_size = (150,150), batch_size = 16, class_mode = 'binary')\n",
        "\n",
        "validation_generator = validation_data_generator.flow_from_directory(\n",
        "        validation_dir, target_size = (150,150), batch_size = 16, class_mode = 'binary')"
      ],
      "execution_count": 7,
      "outputs": [
        {
          "output_type": "stream",
          "text": [
            "Found 148 images belonging to 2 classes.\n",
            "Found 40 images belonging to 2 classes.\n"
          ],
          "name": "stdout"
        }
      ]
    },
    {
      "cell_type": "markdown",
      "metadata": {
        "id": "V2igpFWmLgjZ"
      },
      "source": [
        "---\n",
        "# Model One - CNN: LeNet"
      ]
    },
    {
      "cell_type": "markdown",
      "metadata": {
        "id": "e3UqFquXGBtv"
      },
      "source": [
        "http://d2l.ai/chapter_convolutional-neural-networks/lenet.html\n",
        "\n",
        "LeNet, among the first published CNNs to capture wide attention for its performance on computer vision tasks. The model was introduced by (and named for) Yann LeCun, then a researcher at AT&T Bell Labs, for the purpose of recognizing handwritten digits in images. This work represented the culmination of a decade of research developing the technology. In 1989, LeCun published the first study to successfully train CNNs via backpropagation.\n",
        "\n",
        "At the time LeNet achieved outstanding results matching the performance of support vector machines, then a dominant approach in supervised learning. LeNet was eventually adapted to recognize digits for processing deposits in ATM machines. To this day, some ATMs still run the code that Yann and his colleague Leon Bottou wrote in the 1990s!\n",
        "\n",
        "Below, the LeNet model is established;"
      ]
    },
    {
      "cell_type": "code",
      "metadata": {
        "id": "OpIZTSvEx1H6"
      },
      "source": [
        "#making our LeNet Model\n",
        "model_leNet = Sequential()\n",
        "\n",
        "model_leNet.add(tf.keras.layers.Conv2D(filters=64, kernel_size=3, activation='sigmoid', input_shape=(150, 150, 3), padding='same'))\n",
        "model_leNet.add(tf.keras.layers.AvgPool2D(pool_size=2, strides=2))\n",
        "model_leNet.add(tf.keras.layers.Conv2D(filters=32, kernel_size=5, activation='sigmoid'))\n",
        "model_leNet.add(tf.keras.layers.AvgPool2D(pool_size=2, strides=2))\n",
        "\n",
        "model_leNet.add(Flatten())\n",
        "\n",
        "model_leNet.add(tf.keras.layers.Dense(100, activation='sigmoid'))\n",
        "model_leNet.add(tf.keras.layers.Dense(50, activation='sigmoid'))\n",
        "model_leNet.add(tf.keras.layers.Dense(1))\n",
        "\n",
        "model_leNet.compile(loss='binary_crossentropy', optimizer=RMSprop(learning_rate=0.1), metrics=['accuracy'])"
      ],
      "execution_count": 41,
      "outputs": []
    },
    {
      "cell_type": "code",
      "metadata": {
        "colab": {
          "base_uri": "https://localhost:8080/"
        },
        "id": "Z3SkMVCAu2sk",
        "outputId": "172553f5-0dda-4409-d013-61905f817ecf"
      },
      "source": [
        "history1 = model_leNet.fit_generator(generator=train_generator, epochs = 15, validation_data = validation_generator)"
      ],
      "execution_count": 42,
      "outputs": [
        {
          "output_type": "stream",
          "text": [
            "/usr/local/lib/python3.7/dist-packages/keras/engine/training.py:1972: UserWarning: `Model.fit_generator` is deprecated and will be removed in a future version. Please use `Model.fit`, which supports generators.\n",
            "  warnings.warn('`Model.fit_generator` is deprecated and '\n"
          ],
          "name": "stderr"
        },
        {
          "output_type": "stream",
          "text": [
            "Epoch 1/15\n",
            "10/10 [==============================] - 17s 2s/step - loss: 7.6246 - accuracy: 0.5000 - val_loss: 7.6246 - val_accuracy: 0.5000\n",
            "Epoch 2/15\n",
            "10/10 [==============================] - 16s 2s/step - loss: 7.6246 - accuracy: 0.5000 - val_loss: 7.6246 - val_accuracy: 0.5000\n",
            "Epoch 3/15\n",
            "10/10 [==============================] - 16s 2s/step - loss: 7.6246 - accuracy: 0.5000 - val_loss: 7.6246 - val_accuracy: 0.5000\n",
            "Epoch 4/15\n",
            "10/10 [==============================] - 16s 2s/step - loss: 7.6246 - accuracy: 0.5000 - val_loss: 7.6246 - val_accuracy: 0.5000\n",
            "Epoch 5/15\n",
            "10/10 [==============================] - 16s 2s/step - loss: 7.6246 - accuracy: 0.5000 - val_loss: 7.6246 - val_accuracy: 0.5000\n",
            "Epoch 6/15\n",
            "10/10 [==============================] - 16s 2s/step - loss: 7.6246 - accuracy: 0.5000 - val_loss: 7.6246 - val_accuracy: 0.5000\n",
            "Epoch 7/15\n",
            "10/10 [==============================] - 16s 1s/step - loss: 7.6246 - accuracy: 0.5000 - val_loss: 7.6246 - val_accuracy: 0.5000\n",
            "Epoch 8/15\n",
            "10/10 [==============================] - 16s 2s/step - loss: 7.6246 - accuracy: 0.5000 - val_loss: 7.6246 - val_accuracy: 0.5000\n",
            "Epoch 9/15\n",
            "10/10 [==============================] - 16s 2s/step - loss: 7.6246 - accuracy: 0.5000 - val_loss: 7.6246 - val_accuracy: 0.5000\n",
            "Epoch 10/15\n",
            "10/10 [==============================] - 16s 2s/step - loss: 7.6246 - accuracy: 0.5000 - val_loss: 7.6246 - val_accuracy: 0.5000\n",
            "Epoch 11/15\n",
            "10/10 [==============================] - 16s 2s/step - loss: 7.6246 - accuracy: 0.5000 - val_loss: 7.6246 - val_accuracy: 0.5000\n",
            "Epoch 12/15\n",
            "10/10 [==============================] - 16s 2s/step - loss: 7.6246 - accuracy: 0.5000 - val_loss: 7.6246 - val_accuracy: 0.5000\n",
            "Epoch 13/15\n",
            "10/10 [==============================] - 16s 2s/step - loss: 7.6246 - accuracy: 0.5000 - val_loss: 7.6246 - val_accuracy: 0.5000\n",
            "Epoch 14/15\n",
            "10/10 [==============================] - 16s 2s/step - loss: 7.6246 - accuracy: 0.5000 - val_loss: 7.6246 - val_accuracy: 0.5000\n",
            "Epoch 15/15\n",
            "10/10 [==============================] - 16s 2s/step - loss: 7.6246 - accuracy: 0.5000 - val_loss: 7.6246 - val_accuracy: 0.5000\n"
          ],
          "name": "stdout"
        }
      ]
    },
    {
      "cell_type": "code",
      "metadata": {
        "colab": {
          "base_uri": "https://localhost:8080/"
        },
        "id": "T83-dCzut9XX",
        "outputId": "84764824-2c73-4805-efd2-ac5617a11971"
      },
      "source": [
        "model_leNet.build()\n",
        "model_leNet.summary()"
      ],
      "execution_count": 43,
      "outputs": [
        {
          "output_type": "stream",
          "text": [
            "Model: \"sequential_18\"\n",
            "_________________________________________________________________\n",
            "Layer (type)                 Output Shape              Param #   \n",
            "=================================================================\n",
            "conv2d_99 (Conv2D)           (None, 150, 150, 64)      1792      \n",
            "_________________________________________________________________\n",
            "average_pooling2d_8 (Average (None, 75, 75, 64)        0         \n",
            "_________________________________________________________________\n",
            "conv2d_100 (Conv2D)          (None, 71, 71, 32)        51232     \n",
            "_________________________________________________________________\n",
            "average_pooling2d_9 (Average (None, 35, 35, 32)        0         \n",
            "_________________________________________________________________\n",
            "flatten_11 (Flatten)         (None, 39200)             0         \n",
            "_________________________________________________________________\n",
            "dense_30 (Dense)             (None, 100)               3920100   \n",
            "_________________________________________________________________\n",
            "dense_31 (Dense)             (None, 50)                5050      \n",
            "_________________________________________________________________\n",
            "dense_32 (Dense)             (None, 1)                 51        \n",
            "=================================================================\n",
            "Total params: 3,978,225\n",
            "Trainable params: 3,978,225\n",
            "Non-trainable params: 0\n",
            "_________________________________________________________________\n"
          ],
          "name": "stdout"
        }
      ]
    },
    {
      "cell_type": "code",
      "metadata": {
        "colab": {
          "base_uri": "https://localhost:8080/",
          "height": 311
        },
        "id": "rr2uCDBG2rVC",
        "outputId": "a0410b2d-f4a6-4a66-d653-888934cdc8d1"
      },
      "source": [
        "accuracy = history1.history['accuracy']\n",
        "val_accuracy  = history1.history['val_accuracy']\n",
        "\n",
        "loss = history1.history['loss']\n",
        "val_loss = history1.history['val_loss']\n",
        "plt.figure(figsize=(15,10))\n",
        "\n",
        "plt.subplot(2, 2, 1)\n",
        "plt.plot(accuracy, label = \"Training accuracy\")\n",
        "plt.plot(val_accuracy, label=\"Validation accuracy\")\n",
        "plt.legend()\n",
        "plt.title(\"Training vs validation accuracy\")\n",
        "\n",
        "\n",
        "plt.subplot(2,2,2)\n",
        "plt.plot(loss, label = \"Training loss\")\n",
        "plt.plot(val_loss, label=\"Validation loss\")\n",
        "plt.legend()\n",
        "plt.title(\"Training vs validation loss\")\n",
        "\n",
        "plt.show()"
      ],
      "execution_count": 44,
      "outputs": [
        {
          "output_type": "display_data",
          "data": {
            "image/png": "[encoded data removed]",
            "text/plain": [
              "<Figure size 1080x720 with 2 Axes>"
            ]
          },
          "metadata": {
            "needs_background": "light"
          }
        }
      ]
    },
    {
      "cell_type": "markdown",
      "metadata": {
        "id": "ZSU6Sw5wLgs8"
      },
      "source": [
        "---\n",
        "# Model Two - CNN: AlexNet\n"
      ]
    },
    {
      "cell_type": "markdown",
      "metadata": {
        "id": "grF9Mft-GGch"
      },
      "source": [
        "http://d2l.ai/chapter_convolutional-modern/alexnet.html?highlight=alexnet\n",
        "\n",
        "Although LeNet achieved good results on early small datasets, the performance and feasibility of training CNNs on larger, more realistic datasets had yet to be established. AlexNet was named after Alex Krizhevsky, in the lowest layers of the network, the model learned feature extractors that resembled some traditional filters. Higher layers in the network might build upon these representations to represent larger structures, like eyes, noses, blades of grass, and so on. Even higher layers might represent whole objects like people, airplanes, dogs, or frisbees. Ultimately, the final hidden state learns a compact representation of the image that summarizes its contents such that data belonging to different categories can be easily separated.\n",
        "\n",
        "Below, the AlexNet model is established;"
      ]
    },
    {
      "cell_type": "code",
      "metadata": {
        "id": "GtB2GLLazbPe"
      },
      "source": [
        "# Making our AlexNet\n",
        "model_alexNet = Sequential()\n",
        "\n",
        "# Here, we use a larger 11 x 11 window to capture objects. \n",
        "# At the same time, we use a stride of 4 to greatly reduce the height and width of the output.\n",
        "# Here, the number of output channels is much larger than that in LeNet\n",
        "model_alexNet.add(tf.keras.layers.Conv2D(filters=96, kernel_size=11, strides=4, activation='relu', input_shape=(150, 150, 3)))\n",
        "model_alexNet.add(tf.keras.layers.MaxPool2D(pool_size=2, strides=2))\n",
        "\n",
        "# Make the convolution window smaller, set padding to 2 for consistent\n",
        "# height and width across the input and output, and increase the number of output channels\n",
        "model_alexNet.add(tf.keras.layers.Conv2D(filters=64, kernel_size=5, padding='same', activation='relu'))\n",
        "model_alexNet.add(tf.keras.layers.MaxPool2D(pool_size=2, strides=2))\n",
        "\n",
        "# Use three successive convolutional layers and a smaller convolution window.\n",
        "# Except for the final convolutional layer, the number of output channels is further increased.\n",
        "# Pooling layers are not used to reduce the height and width of input after the first two convolutional layers.\n",
        "model_alexNet.add(tf.keras.layers.Conv2D(filters=128, kernel_size=3, padding='same', activation='relu'))\n",
        "model_alexNet.add(tf.keras.layers.Conv2D(filters=128, kernel_size=3, padding='same', activation='relu'))\n",
        "model_alexNet.add(tf.keras.layers.Conv2D(filters=64, kernel_size=3, padding='same', activation='relu'))\n",
        "model_alexNet.add(tf.keras.layers.MaxPool2D(pool_size=2, strides=2))\n",
        "model_alexNet.add(tf.keras.layers.Flatten())\n",
        "\n",
        "# Here, the number of outputs of the fully-connected layer is several times larger than that in LeNet.\n",
        "# Use the dropout layer to mitigate overfitting.\n",
        "model_alexNet.add(tf.keras.layers.Dense(128, activation='relu'))\n",
        "model_alexNet.add(tf.keras.layers.Dropout(0.25))\n",
        "model_alexNet.add(tf.keras.layers.Dense(1, activation='relu'))\n",
        "model_alexNet.add(tf.keras.layers.Dropout(0.25))\n",
        "\n",
        "# Output layer. Since we are using Fashion-MNIST, the number of classes is 10, instead of 1000 as in the paper.\n",
        "model_alexNet.add(tf.keras.layers.Dense(10))\n",
        "\n",
        "model_alexNet.compile(loss='binary_crossentropy', optimizer=RMSprop(learning_rate=0.1), metrics=['accuracy'])"
      ],
      "execution_count": 52,
      "outputs": []
    },
    {
      "cell_type": "code",
      "metadata": {
        "colab": {
          "base_uri": "https://localhost:8080/"
        },
        "id": "vakcPkzLuJKr",
        "outputId": "fcd77618-c677-4ce1-ff94-774008ddf407"
      },
      "source": [
        "history2 = model_alexNet.fit_generator(generator=train_generator, epochs = 15, validation_data = validation_generator)"
      ],
      "execution_count": 53,
      "outputs": [
        {
          "output_type": "stream",
          "text": [
            "/usr/local/lib/python3.7/dist-packages/keras/engine/training.py:1972: UserWarning: `Model.fit_generator` is deprecated and will be removed in a future version. Please use `Model.fit`, which supports generators.\n",
            "  warnings.warn('`Model.fit_generator` is deprecated and '\n"
          ],
          "name": "stderr"
        },
        {
          "output_type": "stream",
          "text": [
            "Epoch 1/15\n",
            "10/10 [==============================] - 10s 932ms/step - loss: 6.7254 - accuracy: 0.0338 - val_loss: 7.6773 - val_accuracy: 0.0000e+00\n",
            "Epoch 2/15\n",
            "10/10 [==============================] - 9s 930ms/step - loss: 7.1589 - accuracy: 0.0000e+00 - val_loss: 7.6773 - val_accuracy: 0.0000e+00\n",
            "Epoch 3/15\n",
            "10/10 [==============================] - 9s 830ms/step - loss: 6.9314 - accuracy: 0.0000e+00 - val_loss: 7.6773 - val_accuracy: 0.0000e+00\n",
            "Epoch 4/15\n",
            "10/10 [==============================] - 9s 833ms/step - loss: 6.8747 - accuracy: 0.0000e+00 - val_loss: 7.6773 - val_accuracy: 0.0000e+00\n",
            "Epoch 5/15\n",
            "10/10 [==============================] - 9s 830ms/step - loss: 6.8083 - accuracy: 0.0000e+00 - val_loss: 7.6773 - val_accuracy: 0.0000e+00\n",
            "Epoch 6/15\n",
            "10/10 [==============================] - 9s 809ms/step - loss: 7.0813 - accuracy: 0.0000e+00 - val_loss: 7.6773 - val_accuracy: 0.0000e+00\n",
            "Epoch 7/15\n",
            "10/10 [==============================] - 9s 850ms/step - loss: 6.8841 - accuracy: 0.0000e+00 - val_loss: 7.6773 - val_accuracy: 0.0000e+00\n",
            "Epoch 8/15\n",
            "10/10 [==============================] - 9s 844ms/step - loss: 7.0919 - accuracy: 0.0000e+00 - val_loss: 7.6773 - val_accuracy: 0.0000e+00\n",
            "Epoch 9/15\n",
            "10/10 [==============================] - 9s 856ms/step - loss: 7.0374 - accuracy: 0.0000e+00 - val_loss: 7.6773 - val_accuracy: 0.0000e+00\n",
            "Epoch 10/15\n",
            "10/10 [==============================] - 9s 864ms/step - loss: 6.9205 - accuracy: 0.0000e+00 - val_loss: 7.6773 - val_accuracy: 0.0000e+00\n",
            "Epoch 11/15\n",
            "10/10 [==============================] - 9s 873ms/step - loss: 6.8101 - accuracy: 0.0000e+00 - val_loss: 7.6773 - val_accuracy: 0.0000e+00\n",
            "Epoch 12/15\n",
            "10/10 [==============================] - 9s 868ms/step - loss: 6.9741 - accuracy: 0.0000e+00 - val_loss: 7.6773 - val_accuracy: 0.0000e+00\n",
            "Epoch 13/15\n",
            "10/10 [==============================] - 9s 849ms/step - loss: 7.0092 - accuracy: 0.0000e+00 - val_loss: 7.6773 - val_accuracy: 0.0000e+00\n",
            "Epoch 14/15\n",
            "10/10 [==============================] - 9s 842ms/step - loss: 7.0155 - accuracy: 0.0000e+00 - val_loss: 7.6773 - val_accuracy: 0.0000e+00\n",
            "Epoch 15/15\n",
            "10/10 [==============================] - 9s 858ms/step - loss: 6.9665 - accuracy: 0.0000e+00 - val_loss: 7.6773 - val_accuracy: 0.0000e+00\n"
          ],
          "name": "stdout"
        }
      ]
    },
    {
      "cell_type": "code",
      "metadata": {
        "colab": {
          "base_uri": "https://localhost:8080/"
        },
        "id": "KAxiXJhb162t",
        "outputId": "bf75734a-b94f-4d56-bdcd-d2e80648243f"
      },
      "source": [
        "model_alexNet.build()\n",
        "model_alexNet.summary()"
      ],
      "execution_count": 54,
      "outputs": [
        {
          "output_type": "stream",
          "text": [
            "Model: \"sequential_21\"\n",
            "_________________________________________________________________\n",
            "Layer (type)                 Output Shape              Param #   \n",
            "=================================================================\n",
            "conv2d_118 (Conv2D)          (None, 35, 35, 96)        34944     \n",
            "_________________________________________________________________\n",
            "max_pooling2d_100 (MaxPoolin (None, 17, 17, 96)        0         \n",
            "_________________________________________________________________\n",
            "conv2d_119 (Conv2D)          (None, 17, 17, 64)        153664    \n",
            "_________________________________________________________________\n",
            "max_pooling2d_101 (MaxPoolin (None, 8, 8, 64)          0         \n",
            "_________________________________________________________________\n",
            "conv2d_120 (Conv2D)          (None, 8, 8, 128)         73856     \n",
            "_________________________________________________________________\n",
            "conv2d_121 (Conv2D)          (None, 8, 8, 128)         147584    \n",
            "_________________________________________________________________\n",
            "conv2d_122 (Conv2D)          (None, 8, 8, 64)          73792     \n",
            "_________________________________________________________________\n",
            "max_pooling2d_102 (MaxPoolin (None, 4, 4, 64)          0         \n",
            "_________________________________________________________________\n",
            "flatten_14 (Flatten)         (None, 1024)              0         \n",
            "_________________________________________________________________\n",
            "dense_39 (Dense)             (None, 128)               131200    \n",
            "_________________________________________________________________\n",
            "dropout_24 (Dropout)         (None, 128)               0         \n",
            "_________________________________________________________________\n",
            "dense_40 (Dense)             (None, 1)                 129       \n",
            "_________________________________________________________________\n",
            "dropout_25 (Dropout)         (None, 1)                 0         \n",
            "_________________________________________________________________\n",
            "dense_41 (Dense)             (None, 10)                20        \n",
            "=================================================================\n",
            "Total params: 615,189\n",
            "Trainable params: 615,189\n",
            "Non-trainable params: 0\n",
            "_________________________________________________________________\n"
          ],
          "name": "stdout"
        }
      ]
    },
    {
      "cell_type": "code",
      "metadata": {
        "colab": {
          "base_uri": "https://localhost:8080/",
          "height": 311
        },
        "id": "evaVXR3E4ZUN",
        "outputId": "ad904a8f-bb81-4b59-b6f8-0dc6e90bdb3e"
      },
      "source": [
        "accuracy = history2.history['accuracy']\n",
        "val_accuracy  = history2.history['val_accuracy']\n",
        "\n",
        "loss = history2.history['loss']\n",
        "val_loss = history2.history['val_loss']\n",
        "plt.figure(figsize=(15,10))\n",
        "\n",
        "plt.subplot(2, 2, 1)\n",
        "plt.plot(accuracy, label = \"Training accuracy\")\n",
        "plt.plot(val_accuracy, label=\"Validation accuracy\")\n",
        "plt.legend()\n",
        "plt.title(\"Training vs validation accuracy\")\n",
        "\n",
        "\n",
        "plt.subplot(2,2,2)\n",
        "plt.plot(loss, label = \"Training loss\")\n",
        "plt.plot(val_loss, label=\"Validation loss\")\n",
        "plt.legend()\n",
        "plt.title(\"Training vs validation loss\")\n",
        "\n",
        "plt.show()"
      ],
      "execution_count": 55,
      "outputs": [
        {
          "output_type": "display_data",
          "data": {
            "image/png": "[encoded data removed]",
            "text/plain": [
              "<Figure size 1080x720 with 2 Axes>"
            ]
          },
          "metadata": {
            "needs_background": "light"
          }
        }
      ]
    },
    {
      "cell_type": "markdown",
      "metadata": {
        "id": "X-lQwAleLgxw"
      },
      "source": [
        "---\n",
        "# Model Three - CNN: VGG\n"
      ]
    },
    {
      "cell_type": "markdown",
      "metadata": {
        "id": "wu4fP-l5GLlO"
      },
      "source": [
        "http://d2l.ai/chapter_convolutional-modern/vgg.html?highlight=vgg\n",
        "\n",
        "While AlexNet offered empirical evidence that deep CNNs can achieve good results, it did not provide a general template to guide subsequent researchers in designing new networks. The idea of using blocks first emerged from the Visual Geometry Group (VGG) at Oxford University, in their eponymously-named VGG network. It is easy to implement these repeated structures in code with any modern deep learning framework by using loops and subroutines.\n",
        "\n",
        "Below, the VGG model is established;"
      ]
    },
    {
      "cell_type": "code",
      "metadata": {
        "id": "ltatw1EM1ECr"
      },
      "source": [
        "# Making our VGG\n",
        "\n",
        "num_convs = 11\n",
        "num_channels = 20\n",
        "\n",
        "model_VGG = Sequential()\n",
        "\n",
        "#first layer\n",
        "model_VGG.add(tf.keras.layers.Conv2D(num_channels, kernel_size=3, padding='same', activation='relu', input_shape=(150, 150, 3)))\n",
        "model_VGG.add(tf.keras.layers.MaxPool2D(pool_size=2, strides=2))\n",
        "\n",
        "# The convulational part\n",
        "for _ in range(num_convs):\n",
        "  model_VGG.add(tf.keras.layers.Conv2D(num_channels, kernel_size=3, padding='same', activation='relu'))\n",
        "  model_VGG.add(tf.keras.layers.MaxPool2D(pool_size=1, strides=2))\n",
        "\n",
        "# The fully-connected part\n",
        "model_VGG.add(tf.keras.layers.Flatten())\n",
        "model_VGG.add(tf.keras.layers.Dense(32, activation='relu'))\n",
        "model_VGG.add(tf.keras.layers.Dropout(0.1))\n",
        "model_VGG.add(tf.keras.layers.Dense(32, activation='relu'))\n",
        "model_VGG.add(tf.keras.layers.Dropout(0.1))\n",
        "model_VGG.add(tf.keras.layers.Dense(1))\n",
        "\n",
        "model_VGG.compile(loss='binary_crossentropy', optimizer=RMSprop(learning_rate=0.1), metrics=['accuracy'])"
      ],
      "execution_count": 56,
      "outputs": []
    },
    {
      "cell_type": "code",
      "metadata": {
        "colab": {
          "base_uri": "https://localhost:8080/"
        },
        "id": "RZ9QOLSk125o",
        "outputId": "dfd594a9-2c5a-4070-b140-9790404aee66"
      },
      "source": [
        "history3 = model_VGG.fit_generator(generator=train_generator, epochs = 15, validation_data = validation_generator)"
      ],
      "execution_count": 57,
      "outputs": [
        {
          "output_type": "stream",
          "text": [
            "/usr/local/lib/python3.7/dist-packages/keras/engine/training.py:1972: UserWarning: `Model.fit_generator` is deprecated and will be removed in a future version. Please use `Model.fit`, which supports generators.\n",
            "  warnings.warn('`Model.fit_generator` is deprecated and '\n"
          ],
          "name": "stderr"
        },
        {
          "output_type": "stream",
          "text": [
            "Epoch 1/15\n",
            "10/10 [==============================] - 12s 985ms/step - loss: 7.8010 - accuracy: 0.4865 - val_loss: 7.6246 - val_accuracy: 0.5000\n",
            "Epoch 2/15\n",
            "10/10 [==============================] - 9s 914ms/step - loss: 7.6246 - accuracy: 0.5000 - val_loss: 7.6246 - val_accuracy: 0.5000\n",
            "Epoch 3/15\n",
            "10/10 [==============================] - 9s 983ms/step - loss: 7.6246 - accuracy: 0.5000 - val_loss: 7.6246 - val_accuracy: 0.5000\n",
            "Epoch 4/15\n",
            "10/10 [==============================] - 9s 922ms/step - loss: 7.6246 - accuracy: 0.5000 - val_loss: 7.6246 - val_accuracy: 0.5000\n",
            "Epoch 5/15\n",
            "10/10 [==============================] - 9s 897ms/step - loss: 7.6246 - accuracy: 0.5000 - val_loss: 7.6246 - val_accuracy: 0.5000\n",
            "Epoch 6/15\n",
            "10/10 [==============================] - 9s 896ms/step - loss: 7.6246 - accuracy: 0.5000 - val_loss: 7.6246 - val_accuracy: 0.5000\n",
            "Epoch 7/15\n",
            "10/10 [==============================] - 9s 909ms/step - loss: 7.6246 - accuracy: 0.5000 - val_loss: 7.6246 - val_accuracy: 0.5000\n",
            "Epoch 8/15\n",
            "10/10 [==============================] - 9s 920ms/step - loss: 7.6246 - accuracy: 0.5000 - val_loss: 7.6246 - val_accuracy: 0.5000\n",
            "Epoch 9/15\n",
            "10/10 [==============================] - 9s 895ms/step - loss: 7.6246 - accuracy: 0.5000 - val_loss: 7.6246 - val_accuracy: 0.5000\n",
            "Epoch 10/15\n",
            "10/10 [==============================] - 9s 875ms/step - loss: 7.6246 - accuracy: 0.5000 - val_loss: 7.6246 - val_accuracy: 0.5000\n",
            "Epoch 11/15\n",
            "10/10 [==============================] - 9s 897ms/step - loss: 7.6246 - accuracy: 0.5000 - val_loss: 7.6246 - val_accuracy: 0.5000\n",
            "Epoch 12/15\n",
            "10/10 [==============================] - 9s 900ms/step - loss: 7.6246 - accuracy: 0.5000 - val_loss: 7.6246 - val_accuracy: 0.5000\n",
            "Epoch 13/15\n",
            "10/10 [==============================] - 9s 887ms/step - loss: 7.6246 - accuracy: 0.5000 - val_loss: 7.6246 - val_accuracy: 0.5000\n",
            "Epoch 14/15\n",
            "10/10 [==============================] - 9s 854ms/step - loss: 7.6246 - accuracy: 0.5000 - val_loss: 7.6246 - val_accuracy: 0.5000\n",
            "Epoch 15/15\n",
            "10/10 [==============================] - 9s 908ms/step - loss: 7.6246 - accuracy: 0.5000 - val_loss: 7.6246 - val_accuracy: 0.5000\n"
          ],
          "name": "stdout"
        }
      ]
    },
    {
      "cell_type": "code",
      "metadata": {
        "colab": {
          "base_uri": "https://localhost:8080/"
        },
        "id": "t2wcURpp17hf",
        "outputId": "37a55db5-53fc-4582-e839-d138befa7281"
      },
      "source": [
        "model_VGG.summary()"
      ],
      "execution_count": 58,
      "outputs": [
        {
          "output_type": "stream",
          "text": [
            "Model: \"sequential_22\"\n",
            "_________________________________________________________________\n",
            "Layer (type)                 Output Shape              Param #   \n",
            "=================================================================\n",
            "conv2d_123 (Conv2D)          (None, 150, 150, 20)      560       \n",
            "_________________________________________________________________\n",
            "max_pooling2d_103 (MaxPoolin (None, 75, 75, 20)        0         \n",
            "_________________________________________________________________\n",
            "conv2d_124 (Conv2D)          (None, 75, 75, 20)        3620      \n",
            "_________________________________________________________________\n",
            "max_pooling2d_104 (MaxPoolin (None, 38, 38, 20)        0         \n",
            "_________________________________________________________________\n",
            "conv2d_125 (Conv2D)          (None, 38, 38, 20)        3620      \n",
            "_________________________________________________________________\n",
            "max_pooling2d_105 (MaxPoolin (None, 19, 19, 20)        0         \n",
            "_________________________________________________________________\n",
            "conv2d_126 (Conv2D)          (None, 19, 19, 20)        3620      \n",
            "_________________________________________________________________\n",
            "max_pooling2d_106 (MaxPoolin (None, 10, 10, 20)        0         \n",
            "_________________________________________________________________\n",
            "conv2d_127 (Conv2D)          (None, 10, 10, 20)        3620      \n",
            "_________________________________________________________________\n",
            "max_pooling2d_107 (MaxPoolin (None, 5, 5, 20)          0         \n",
            "_________________________________________________________________\n",
            "conv2d_128 (Conv2D)          (None, 5, 5, 20)          3620      \n",
            "_________________________________________________________________\n",
            "max_pooling2d_108 (MaxPoolin (None, 3, 3, 20)          0         \n",
            "_________________________________________________________________\n",
            "conv2d_129 (Conv2D)          (None, 3, 3, 20)          3620      \n",
            "_________________________________________________________________\n",
            "max_pooling2d_109 (MaxPoolin (None, 2, 2, 20)          0         \n",
            "_________________________________________________________________\n",
            "conv2d_130 (Conv2D)          (None, 2, 2, 20)          3620      \n",
            "_________________________________________________________________\n",
            "max_pooling2d_110 (MaxPoolin (None, 1, 1, 20)          0         \n",
            "_________________________________________________________________\n",
            "conv2d_131 (Conv2D)          (None, 1, 1, 20)          3620      \n",
            "_________________________________________________________________\n",
            "max_pooling2d_111 (MaxPoolin (None, 1, 1, 20)          0         \n",
            "_________________________________________________________________\n",
            "conv2d_132 (Conv2D)          (None, 1, 1, 20)          3620      \n",
            "_________________________________________________________________\n",
            "max_pooling2d_112 (MaxPoolin (None, 1, 1, 20)          0         \n",
            "_________________________________________________________________\n",
            "conv2d_133 (Conv2D)          (None, 1, 1, 20)          3620      \n",
            "_________________________________________________________________\n",
            "max_pooling2d_113 (MaxPoolin (None, 1, 1, 20)          0         \n",
            "_________________________________________________________________\n",
            "conv2d_134 (Conv2D)          (None, 1, 1, 20)          3620      \n",
            "_________________________________________________________________\n",
            "max_pooling2d_114 (MaxPoolin (None, 1, 1, 20)          0         \n",
            "_________________________________________________________________\n",
            "flatten_15 (Flatten)         (None, 20)                0         \n",
            "_________________________________________________________________\n",
            "dense_42 (Dense)             (None, 32)                672       \n",
            "_________________________________________________________________\n",
            "dropout_26 (Dropout)         (None, 32)                0         \n",
            "_________________________________________________________________\n",
            "dense_43 (Dense)             (None, 32)                1056      \n",
            "_________________________________________________________________\n",
            "dropout_27 (Dropout)         (None, 32)                0         \n",
            "_________________________________________________________________\n",
            "dense_44 (Dense)             (None, 1)                 33        \n",
            "=================================================================\n",
            "Total params: 42,141\n",
            "Trainable params: 42,141\n",
            "Non-trainable params: 0\n",
            "_________________________________________________________________\n"
          ],
          "name": "stdout"
        }
      ]
    },
    {
      "cell_type": "code",
      "metadata": {
        "colab": {
          "base_uri": "https://localhost:8080/",
          "height": 311
        },
        "id": "CXWPxkjy4c0O",
        "outputId": "fc2cadd6-d3ec-4420-a9c7-e3cd3a3d2503"
      },
      "source": [
        "accuracy = history3.history['accuracy']\n",
        "val_accuracy  = history3.history['val_accuracy']\n",
        "\n",
        "loss = history3.history['loss']\n",
        "val_loss = history3.history['val_loss']\n",
        "plt.figure(figsize=(15,10))\n",
        "\n",
        "plt.subplot(2, 2, 1)\n",
        "plt.plot(accuracy, label = \"Training accuracy\")\n",
        "plt.plot(val_accuracy, label=\"Validation accuracy\")\n",
        "plt.legend()\n",
        "plt.title(\"Training vs validation accuracy\")\n",
        "\n",
        "\n",
        "plt.subplot(2,2,2)\n",
        "plt.plot(loss, label = \"Training loss\")\n",
        "plt.plot(val_loss, label=\"Validation loss\")\n",
        "plt.legend()\n",
        "plt.title(\"Training vs validation loss\")\n",
        "\n",
        "plt.show()"
      ],
      "execution_count": 59,
      "outputs": [
        {
          "output_type": "display_data",
          "data": {
            "image/png": "[encoded data removed]",
            "text/plain": [
              "<Figure size 1080x720 with 2 Axes>"
            ]
          },
          "metadata": {
            "needs_background": "light"
          }
        }
      ]
    },
    {
      "cell_type": "markdown",
      "metadata": {
        "id": "-nnzs3v8Lrvl"
      },
      "source": [
        "---\n",
        "# Summery"
      ]
    },
    {
      "cell_type": "markdown",
      "metadata": {
        "id": "aUDxbVu_B5uX"
      },
      "source": [
        "With all models, the validation accuracy has been capped to 0.5, with high loss values under validation. With the exception of AlexNet which actually reduced in accuracy from the first epoch and never increased through the proceeding cycles.\n",
        "\n",
        "This to me indicates a potential of overly complex models for the problem at hand. I feel that non of the above models fit the problem, and this can be proven with the model below. "
      ]
    },
    {
      "cell_type": "code",
      "metadata": {
        "id": "seBaYYt__r8H"
      },
      "source": [
        "model_sum = Sequential()\n",
        "\n",
        "model_sum.add(tf.keras.layers.Conv2D(64, (3,3), activation='relu', input_shape=(150, 150, 3)))\n",
        "model_sum.add(tf.keras.layers.MaxPooling2D(2, 2))\n",
        "model_sum.add(tf.keras.layers.Dropout(0.25))\n",
        "model_sum.add(tf.keras.layers.Conv2D(32, (3,3), activation='relu'))\n",
        "model_sum.add(tf.keras.layers.MaxPooling2D(2,2))\n",
        "model_sum.add(tf.keras.layers.Dropout(0.25))\n",
        "model_sum.add(tf.keras.layers.Conv2D(16, (3,3), activation='relu'))\n",
        "model_sum.add(tf.keras.layers.MaxPooling2D(2,2))\n",
        "model_sum.add(tf.keras.layers.Dropout(0.25))\n",
        "model_sum.add(tf.keras.layers.Flatten())\n",
        "model_sum.add(tf.keras.layers.Dense(512, activation='relu'))\n",
        "model_sum.add(tf.keras.layers.Dropout(0.25))\n",
        "model_sum.add(tf.keras.layers.Dense(1, activation='sigmoid'))\n",
        "\n",
        "model_sum.compile(loss='binary_crossentropy', optimizer=RMSprop(learning_rate=0.001), metrics=['accuracy'])"
      ],
      "execution_count": 24,
      "outputs": []
    },
    {
      "cell_type": "code",
      "metadata": {
        "colab": {
          "base_uri": "https://localhost:8080/"
        },
        "id": "KlpCHjx6BuDP",
        "outputId": "caa8d7d5-ef76-4c49-dbd8-eb67e9ba2af7"
      },
      "source": [
        "history_sum = model_sum.fit_generator(generator=train_generator, epochs = 15, validation_data = validation_generator)"
      ],
      "execution_count": 26,
      "outputs": [
        {
          "output_type": "stream",
          "text": [
            "/usr/local/lib/python3.7/dist-packages/keras/engine/training.py:1972: UserWarning: `Model.fit_generator` is deprecated and will be removed in a future version. Please use `Model.fit`, which supports generators.\n",
            "  warnings.warn('`Model.fit_generator` is deprecated and '\n"
          ],
          "name": "stderr"
        },
        {
          "output_type": "stream",
          "text": [
            "Epoch 1/15\n",
            "10/10 [==============================] - 14s 1s/step - loss: 1.9109 - accuracy: 0.5068 - val_loss: 0.6404 - val_accuracy: 0.5000\n",
            "Epoch 2/15\n",
            "10/10 [==============================] - 13s 1s/step - loss: 0.6568 - accuracy: 0.6351 - val_loss: 0.5368 - val_accuracy: 0.9500\n",
            "Epoch 3/15\n",
            "10/10 [==============================] - 13s 1s/step - loss: 0.5125 - accuracy: 0.7635 - val_loss: 0.3966 - val_accuracy: 0.9750\n",
            "Epoch 4/15\n",
            "10/10 [==============================] - 13s 1s/step - loss: 0.4322 - accuracy: 0.8041 - val_loss: 0.7186 - val_accuracy: 0.5250\n",
            "Epoch 5/15\n",
            "10/10 [==============================] - 13s 1s/step - loss: 0.5569 - accuracy: 0.7230 - val_loss: 0.2942 - val_accuracy: 1.0000\n",
            "Epoch 6/15\n",
            "10/10 [==============================] - 13s 1s/step - loss: 0.2558 - accuracy: 0.8986 - val_loss: 0.2310 - val_accuracy: 0.9250\n",
            "Epoch 7/15\n",
            "10/10 [==============================] - 13s 1s/step - loss: 0.3508 - accuracy: 0.8581 - val_loss: 0.2875 - val_accuracy: 0.9750\n",
            "Epoch 8/15\n",
            "10/10 [==============================] - 13s 1s/step - loss: 0.2350 - accuracy: 0.9257 - val_loss: 0.1143 - val_accuracy: 0.9750\n",
            "Epoch 9/15\n",
            "10/10 [==============================] - 13s 1s/step - loss: 0.2479 - accuracy: 0.8986 - val_loss: 0.1397 - val_accuracy: 0.9750\n",
            "Epoch 10/15\n",
            "10/10 [==============================] - 13s 1s/step - loss: 0.4025 - accuracy: 0.8581 - val_loss: 0.1725 - val_accuracy: 0.9750\n",
            "Epoch 11/15\n",
            "10/10 [==============================] - 13s 1s/step - loss: 0.1569 - accuracy: 0.9595 - val_loss: 0.0927 - val_accuracy: 1.0000\n",
            "Epoch 12/15\n",
            "10/10 [==============================] - 13s 1s/step - loss: 0.1471 - accuracy: 0.9595 - val_loss: 0.1009 - val_accuracy: 0.9500\n",
            "Epoch 13/15\n",
            "10/10 [==============================] - 13s 1s/step - loss: 0.1288 - accuracy: 0.9595 - val_loss: 0.0596 - val_accuracy: 1.0000\n",
            "Epoch 14/15\n",
            "10/10 [==============================] - 13s 1s/step - loss: 0.4639 - accuracy: 0.8378 - val_loss: 0.1652 - val_accuracy: 0.9500\n",
            "Epoch 15/15\n",
            "10/10 [==============================] - 12s 1s/step - loss: 0.1209 - accuracy: 0.9662 - val_loss: 0.0924 - val_accuracy: 0.9750\n"
          ],
          "name": "stdout"
        }
      ]
    },
    {
      "cell_type": "code",
      "metadata": {
        "colab": {
          "base_uri": "https://localhost:8080/"
        },
        "id": "sKuam5BBIOJC",
        "outputId": "e4cff94c-46ef-4731-bf29-b4f751c6e96e"
      },
      "source": [
        "model_sum.summary()"
      ],
      "execution_count": 60,
      "outputs": [
        {
          "output_type": "stream",
          "text": [
            "Model: \"sequential_6\"\n",
            "_________________________________________________________________\n",
            "Layer (type)                 Output Shape              Param #   \n",
            "=================================================================\n",
            "conv2d_17 (Conv2D)           (None, 148, 148, 64)      1792      \n",
            "_________________________________________________________________\n",
            "max_pooling2d_9 (MaxPooling2 (None, 74, 74, 64)        0         \n",
            "_________________________________________________________________\n",
            "dropout_10 (Dropout)         (None, 74, 74, 64)        0         \n",
            "_________________________________________________________________\n",
            "conv2d_18 (Conv2D)           (None, 72, 72, 32)        18464     \n",
            "_________________________________________________________________\n",
            "max_pooling2d_10 (MaxPooling (None, 36, 36, 32)        0         \n",
            "_________________________________________________________________\n",
            "dropout_11 (Dropout)         (None, 36, 36, 32)        0         \n",
            "_________________________________________________________________\n",
            "conv2d_19 (Conv2D)           (None, 34, 34, 16)        4624      \n",
            "_________________________________________________________________\n",
            "max_pooling2d_11 (MaxPooling (None, 17, 17, 16)        0         \n",
            "_________________________________________________________________\n",
            "dropout_12 (Dropout)         (None, 17, 17, 16)        0         \n",
            "_________________________________________________________________\n",
            "flatten_6 (Flatten)          (None, 4624)              0         \n",
            "_________________________________________________________________\n",
            "dense_16 (Dense)             (None, 512)               2368000   \n",
            "_________________________________________________________________\n",
            "dropout_13 (Dropout)         (None, 512)               0         \n",
            "_________________________________________________________________\n",
            "dense_17 (Dense)             (None, 1)                 513       \n",
            "=================================================================\n",
            "Total params: 2,393,393\n",
            "Trainable params: 2,393,393\n",
            "Non-trainable params: 0\n",
            "_________________________________________________________________\n"
          ],
          "name": "stdout"
        }
      ]
    },
    {
      "cell_type": "markdown",
      "metadata": {
        "id": "hNHE1z6ZCZbA"
      },
      "source": [
        "Already we can see high acuracy scores with low valdiation losses. This is what I was expecting from the above three models. Though, I think there is scope of improvement regarding these two models could be adpated, given more time, thorough exploration of the appropraite variables of the models could help yeild an understanding of whats optimal and whats not. Though, fundamentally, less complex models are the way forward for this issue."
      ]
    },
    {
      "cell_type": "code",
      "metadata": {
        "colab": {
          "base_uri": "https://localhost:8080/",
          "height": 311
        },
        "id": "a6JybdutB0Vy",
        "outputId": "fbac7e08-dbda-4fd1-9615-bc41db87c515"
      },
      "source": [
        "accuracy = history_sum.history['accuracy']\n",
        "val_accuracy  = history_sum.history['val_accuracy']\n",
        "\n",
        "loss = history_sum.history['loss']\n",
        "val_loss = history_sum.history['val_loss']\n",
        "plt.figure(figsize=(15,10))\n",
        "\n",
        "plt.subplot(2, 2, 1)\n",
        "plt.plot(accuracy, label = \"Training accuracy\")\n",
        "plt.plot(val_accuracy, label=\"Validation accuracy\")\n",
        "plt.legend()\n",
        "plt.title(\"Training vs validation accuracy\")\n",
        "\n",
        "\n",
        "plt.subplot(2,2,2)\n",
        "plt.plot(loss, label = \"Training loss\")\n",
        "plt.plot(val_loss, label=\"Validation loss\")\n",
        "plt.legend()\n",
        "plt.title(\"Training vs validation loss\")\n",
        "\n",
        "plt.show()"
      ],
      "execution_count": 27,
      "outputs": [
        {
          "output_type": "display_data",
          "data": {
            "image/png": "[encoded data removed]",
            "text/plain": [
              "<Figure size 1080x720 with 2 Axes>"
            ]
          },
          "metadata": {
            "needs_background": "light"
          }
        }
      ]
    }
  ]
}